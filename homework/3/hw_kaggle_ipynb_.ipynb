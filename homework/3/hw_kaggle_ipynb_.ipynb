{
 "nbformat": 4,
 "nbformat_minor": 0,
 "metadata": {
  "colab": {
   "provenance": []
  },
  "kernelspec": {
   "name": "python3",
   "display_name": "Python 3"
  },
  "language_info": {
   "name": "python"
  }
 },
 "cells": [
  {
   "cell_type": "markdown",
   "metadata": {
    "id": "TK7oX5qdEEYr"
   },
   "source": [
    "# Домашнее задание. Решение конкурса на kaggle.com\n",
    "\n",
    "Это домашнее задание посвящено полноценному решению задачи машинного обучения."
   ]
  },
  {
   "cell_type": "markdown",
   "metadata": {
    "id": "zlB-owfaEEYs"
   },
   "source": [
    "Есть две части этого домашнего задания: \n",
    "\n",
    "### Отправить ваши предсказания в Stepik.\n",
    "За прохождение определенных порогов будут начисляться баллы. Эта часть оценивается из 5 баллов.\n",
    "\n",
    "1) $1.00 \\geqslant score \\geqslant 0.84$ --- 5 баллов\n",
    "\n",
    "2) $0.84 > score \\geqslant 0.77$ --- 4 балла\n",
    "\n",
    "3) $0.77 > score \\geqslant 0.70$ --- 3 балла\n",
    "\n",
    "4) $0.70 > score \\geqslant 0.65$ --- 2 балла\n",
    "\n",
    "5) $0.65 > score \\geqslant 0.6$ --- 1 балл\n",
    "\n",
    "6) $0.60 > score$ --- 0 баллов\n",
    "\n",
    "Для этого мы предварительно разделили данные в задании на две части.\n",
    "* `train.csv`. На этом наборе данных вам необходимо создать и обучить модель. Подробное описание файла есть в ноутбуке.\n",
    "* `test.csv`. В каждой строчке файла `test.csv` указаны признаки тестовых объектов. Предсказания для этого набора необходимо записать в файл submission.csv и сдать в соответствующий шаг на Stepik. Количество попыток ограничено 100 штук.\n",
    "\n",
    "Отправлять в Stepik вы будете файл с ответами `my_submission.csv`. В этом файле вам необходимо для каждого объекта из датасета предсказать вероятность класса 1. Мы подготовили для вас файл с примером посылки `submission.csv`. Ваш файл должен быть оформлен таким же образом. В ноутбуке есть пример оформления файла посылки. Для отправки файла с предсказаниями на Stepik есть отдельный шаг.\n",
    "\n",
    "### Сделать полноценный отчет о вашей работе.\n",
    "Опишите, как вы обработали данные, какие модели попробовали и какие результаты получились (максимум 10 баллов). За каждую выполненную часть будет начислено определенное количество баллов. В этом пункте вам необходимо отправить файл в формате .ipynb на Stepik --- для этого в домашнем задании есть отдельный шаг. Этот пункт оценивается из 10 баллов.\n",
    "\n",
    "**Вторая часть будет проверяться в формате peer-review. Т.е. вашу посылку на Stepik будут проверять 3 других студента, и медианное значение их оценок будет выставлено. Чтобы получить баллы, вам также нужно будет проверить трех других учеников. Это станет доступно после того, как вы сдадите задание сами.**\n",
    "\n",
    "### Контест на Kaggle\n",
    "Для вашего удобства мы подготовили [контест на Kaggle](https://www.kaggle.com/c/advanced-dls-spring-2021/). Тестирующая система на Kaggle выдает те же баллы, что и Stepik. Мы рекомендуем в качестве основной тестирующей системы использовать именно Kaggle, а затем сдать лучшую посылку на Stepik. Так вы привыкните работать с Kaggle. \n",
    "\n",
    "Проблема для российских пользователей Kaggle заключается в том, что подтверждение аккаунта по номеру телефона работает с перебоями или не работает вообще. Без подтвержденного номера телефона вы не сможете совершать посылки в kaggle. Если у вас возникла такая проблема, мы советуем следующие шаги:\n",
    "* Попробовать зарегистрировать аккаунт с аутентификацией через gmail. В таком случае, аккаунт должен работать без подтверждения номера телефона.\n",
    "* Если у вас есть не российский номер, используйте его для верификации аккаунта.\n",
    "* Если на номер телефона не приходит смс для верификации аккаунта, обратитесь в службу поддержки kaggle. Они с переменным успехом умеют подтверждать аккаунты вручную.\n",
    "* Если все же подтвердить аккаунт и получить доступ к сдаче заданий не удалось, используйте только сдачу в Stepik.\n",
    "\n",
    "### Несколько замечаний по выполнению работы\n",
    "* Во всех пунктах указания это минимальный набор вещей, которые стоит сделать. Если вы можете сделать какой-то шаг лучше или добавить что-то свое --- дерзайте!\n",
    "* Пожалуйста, перед сдачей ноутбука убедитесь, что работа чистая и понятная. Это значительно облегчит проверку и повысит ваши ожидаемые баллы. \n",
    "* Если у вас будут проблемы с решением или хочется совета, то пишите в наш чат в телеграме.\n",
    "\n",
    "\n",
    "Данные: [train.csv](https://drive.google.com/file/d/1ERwQ5odiK1Zvi1LtjpkzCMUswYsAX8_K/view?usp=share_link), \n",
    "[test.csv](https://drive.google.com/file/d/1fGw_-RFwvn_LEdt91Jq-7A-wzG6mmH8r/view?usp=share_link), [submission.csv](https://drive.google.com/file/d/199Mt4OYZNaelT83U-HGDsEYs2YcUGQ6y/view?usp=share_link). \n",
    "\n",
    "Если ссылки на данные не работают, их можно скачать [на Kaggle](https://www.kaggle.com/competitions/advanced-dls-spring-2021/data)."
   ]
  },
  {
   "cell_type": "markdown",
   "metadata": {
    "id": "Tu_JvqcBEN8Y"
   },
   "source": [
    "# Как проверять?\n",
    "\n",
    "Ставьте полный балл, если выполнены все рекомендации или сделано что-то более интересное и сложное. За каждый отсустствующий пункт из рекомендации снижайте 1 балл.\n",
    "\n",
    "**Если решение верное, но не удовлетворяет вашим эстетическим предпочтениям, за это баллы снижать не нужно.**"
   ]
  },
  {
   "cell_type": "markdown",
   "metadata": {
    "id": "ninJ63mJEEYt"
   },
   "source": [
    "# Метрика\n",
    "\n",
    "Перед решением любой задачи важно понимать, как будет оцениваться ваше решение. В данном случае мы используем стандартную для задачи классификации метрику ROC-AUC. Ее можно вычислить, используя только предсказанные вероятности и истинные классы без конкретного порога классификации + она раотает даже если классы в данных сильно несбалансированны (примеров одного класса в десятки раз больше примеров длугого). Именно поэтому она очень удобна для соревнований.\n",
    "\n",
    "Посчитать ее легко:\n"
   ]
  },
  {
   "cell_type": "code",
   "metadata": {
    "id": "SQIrka7yEEYu",
    "outputId": "ef45a9f2-7571-47b1-e697-b474b65cb0fb"
   },
   "source": [
    "from sklearn.metrics import roc_auc_score\n",
    "\n",
    "y_true = [\n",
    "    0,\n",
    "    1,\n",
    "    1,\n",
    "    0,\n",
    "    1\n",
    "]\n",
    "\n",
    "y_predictions = [\n",
    "    0.1,\n",
    "    0.9,\n",
    "    0.4,\n",
    "    0.6,\n",
    "    0.61\n",
    "]\n",
    "\n",
    "roc_auc_score(y_true, y_predictions)"
   ],
   "execution_count": 89,
   "outputs": [
    {
     "data": {
      "text/plain": "0.8333333333333333"
     },
     "execution_count": 89,
     "metadata": {},
     "output_type": "execute_result"
    }
   ]
  },
  {
   "cell_type": "markdown",
   "metadata": {
    "id": "IrDNNkNTEEYz"
   },
   "source": [
    "# Первая часть. Исследование"
   ]
  },
  {
   "cell_type": "code",
   "metadata": {
    "id": "lzLqEeZKEEYz"
   },
   "source": [
    "import pandas as pd\n",
    "import numpy as np\n",
    "from matplotlib import pyplot as plt"
   ],
   "execution_count": 90,
   "outputs": []
  },
  {
   "cell_type": "markdown",
   "metadata": {
    "id": "LOlxdURSEEY3"
   },
   "source": [
    "## Загрузка данных (2 балла)\n",
    "\n",
    "1) Посмотрите на случайные строчки. \n",
    "\n",
    "2) Посмотрите, есть ли в датасете незаполненные значения (nan'ы) с помощью data.isna() или data.info() и, если нужно, замените их на что-то. Будет хорошо, если вы построите табличку с количеством nan в каждой колонке."
   ]
  },
  {
   "cell_type": "code",
   "metadata": {
    "id": "pw-Brue9EEY3"
   },
   "source": [
    "data = pd.read_csv('./train.csv')"
   ],
   "execution_count": 91,
   "outputs": []
  },
  {
   "cell_type": "code",
   "metadata": {
    "id": "KgnkkF5bEEY9"
   },
   "source": [
    "# Для вашего удобства списки с именами разных колонок\n",
    "\n",
    "# Числовые признаки\n",
    "num_cols = [\n",
    "    'ClientPeriod',\n",
    "    'MonthlySpending',\n",
    "    'TotalSpent'\n",
    "]\n",
    "\n",
    "# Категориальные признаки\n",
    "cat_cols = [\n",
    "    'Sex',\n",
    "    'IsSeniorCitizen',\n",
    "    'HasPartner',\n",
    "    'HasChild',\n",
    "    'HasPhoneService',\n",
    "    'HasMultiplePhoneNumbers',\n",
    "    'HasInternetService',\n",
    "    'HasOnlineSecurityService',\n",
    "    'HasOnlineBackup',\n",
    "    'HasDeviceProtection',\n",
    "    'HasTechSupportAccess',\n",
    "    'HasOnlineTV',\n",
    "    'HasMovieSubscription',\n",
    "    'HasContractPhone',\n",
    "    'IsBillingPaperless',\n",
    "    'PaymentMethod'\n",
    "]\n",
    "\n",
    "feature_cols = num_cols + cat_cols\n",
    "target_col = 'Churn'"
   ],
   "execution_count": 92,
   "outputs": []
  },
  {
   "cell_type": "code",
   "execution_count": 93,
   "outputs": [
    {
     "data": {
      "text/plain": "      ClientPeriod  MonthlySpending TotalSpent     Sex  IsSeniorCitizen  \\\n0               55            19.50    1026.35    Male                0   \n1               72            25.85     1872.2    Male                0   \n2                1            75.90       75.9    Male                0   \n3               32            79.30       2570  Female                1   \n4               60           115.25    6758.45  Female                0   \n...            ...              ...        ...     ...              ...   \n5277             3            30.40      82.15    Male                0   \n5278            50            44.45    2188.45    Male                0   \n5279             1            55.05      55.05    Male                0   \n5280            29            76.00    2215.25  Female                0   \n5281            19            75.90     1375.6  Female                0   \n\n     HasPartner HasChild HasPhoneService HasMultiplePhoneNumbers  \\\n0           Yes      Yes             Yes                      No   \n1           Yes       No             Yes                     Yes   \n2            No       No             Yes                      No   \n3           Yes       No             Yes                     Yes   \n4           Yes      Yes             Yes                     Yes   \n...         ...      ...             ...                     ...   \n5277         No       No              No        No phone service   \n5278        Yes       No              No        No phone service   \n5279         No       No             Yes                      No   \n5280         No       No             Yes                     Yes   \n5281         No      Yes             Yes                     Yes   \n\n     HasInternetService HasOnlineSecurityService      HasOnlineBackup  \\\n0                    No      No internet service  No internet service   \n1                    No      No internet service  No internet service   \n2           Fiber optic                       No                   No   \n3           Fiber optic                       No                   No   \n4           Fiber optic                      Yes                  Yes   \n...                 ...                      ...                  ...   \n5277                DSL                       No                   No   \n5278                DSL                      Yes                   No   \n5279                DSL                       No                   No   \n5280        Fiber optic                       No                   No   \n5281                DSL                      Yes                  Yes   \n\n      HasDeviceProtection HasTechSupportAccess          HasOnlineTV  \\\n0     No internet service  No internet service  No internet service   \n1     No internet service  No internet service  No internet service   \n2                      No                  Yes                   No   \n3                     Yes                   No                   No   \n4                     Yes                  Yes                  Yes   \n...                   ...                  ...                  ...   \n5277                   No                  Yes                   No   \n5278                   No                  Yes                  Yes   \n5279                  Yes                  Yes                   No   \n5280                   No                   No                   No   \n5281                   No                  Yes                  Yes   \n\n     HasMovieSubscription HasContractPhone IsBillingPaperless  \\\n0     No internet service         One year                 No   \n1     No internet service         Two year                 No   \n2                      No   Month-to-month                Yes   \n3                      No   Month-to-month                 No   \n4                     Yes         Two year                 No   \n...                   ...              ...                ...   \n5277                   No   Month-to-month                 No   \n5278                   No         One year                Yes   \n5279                   No   Month-to-month                 No   \n5280                   No   Month-to-month                Yes   \n5281                   No   Month-to-month                Yes   \n\n                  PaymentMethod  Churn  \n0                  Mailed check      0  \n1       Credit card (automatic)      0  \n2              Electronic check      1  \n3                  Mailed check      0  \n4       Credit card (automatic)      0  \n...                         ...    ...  \n5277           Electronic check      0  \n5278  Bank transfer (automatic)      0  \n5279               Mailed check      0  \n5280    Credit card (automatic)      0  \n5281               Mailed check      0  \n\n[5282 rows x 20 columns]",
      "text/html": "<div>\n<style scoped>\n    .dataframe tbody tr th:only-of-type {\n        vertical-align: middle;\n    }\n\n    .dataframe tbody tr th {\n        vertical-align: top;\n    }\n\n    .dataframe thead th {\n        text-align: right;\n    }\n</style>\n<table border=\"1\" class=\"dataframe\">\n  <thead>\n    <tr style=\"text-align: right;\">\n      <th></th>\n      <th>ClientPeriod</th>\n      <th>MonthlySpending</th>\n      <th>TotalSpent</th>\n      <th>Sex</th>\n      <th>IsSeniorCitizen</th>\n      <th>HasPartner</th>\n      <th>HasChild</th>\n      <th>HasPhoneService</th>\n      <th>HasMultiplePhoneNumbers</th>\n      <th>HasInternetService</th>\n      <th>HasOnlineSecurityService</th>\n      <th>HasOnlineBackup</th>\n      <th>HasDeviceProtection</th>\n      <th>HasTechSupportAccess</th>\n      <th>HasOnlineTV</th>\n      <th>HasMovieSubscription</th>\n      <th>HasContractPhone</th>\n      <th>IsBillingPaperless</th>\n      <th>PaymentMethod</th>\n      <th>Churn</th>\n    </tr>\n  </thead>\n  <tbody>\n    <tr>\n      <th>0</th>\n      <td>55</td>\n      <td>19.50</td>\n      <td>1026.35</td>\n      <td>Male</td>\n      <td>0</td>\n      <td>Yes</td>\n      <td>Yes</td>\n      <td>Yes</td>\n      <td>No</td>\n      <td>No</td>\n      <td>No internet service</td>\n      <td>No internet service</td>\n      <td>No internet service</td>\n      <td>No internet service</td>\n      <td>No internet service</td>\n      <td>No internet service</td>\n      <td>One year</td>\n      <td>No</td>\n      <td>Mailed check</td>\n      <td>0</td>\n    </tr>\n    <tr>\n      <th>1</th>\n      <td>72</td>\n      <td>25.85</td>\n      <td>1872.2</td>\n      <td>Male</td>\n      <td>0</td>\n      <td>Yes</td>\n      <td>No</td>\n      <td>Yes</td>\n      <td>Yes</td>\n      <td>No</td>\n      <td>No internet service</td>\n      <td>No internet service</td>\n      <td>No internet service</td>\n      <td>No internet service</td>\n      <td>No internet service</td>\n      <td>No internet service</td>\n      <td>Two year</td>\n      <td>No</td>\n      <td>Credit card (automatic)</td>\n      <td>0</td>\n    </tr>\n    <tr>\n      <th>2</th>\n      <td>1</td>\n      <td>75.90</td>\n      <td>75.9</td>\n      <td>Male</td>\n      <td>0</td>\n      <td>No</td>\n      <td>No</td>\n      <td>Yes</td>\n      <td>No</td>\n      <td>Fiber optic</td>\n      <td>No</td>\n      <td>No</td>\n      <td>No</td>\n      <td>Yes</td>\n      <td>No</td>\n      <td>No</td>\n      <td>Month-to-month</td>\n      <td>Yes</td>\n      <td>Electronic check</td>\n      <td>1</td>\n    </tr>\n    <tr>\n      <th>3</th>\n      <td>32</td>\n      <td>79.30</td>\n      <td>2570</td>\n      <td>Female</td>\n      <td>1</td>\n      <td>Yes</td>\n      <td>No</td>\n      <td>Yes</td>\n      <td>Yes</td>\n      <td>Fiber optic</td>\n      <td>No</td>\n      <td>No</td>\n      <td>Yes</td>\n      <td>No</td>\n      <td>No</td>\n      <td>No</td>\n      <td>Month-to-month</td>\n      <td>No</td>\n      <td>Mailed check</td>\n      <td>0</td>\n    </tr>\n    <tr>\n      <th>4</th>\n      <td>60</td>\n      <td>115.25</td>\n      <td>6758.45</td>\n      <td>Female</td>\n      <td>0</td>\n      <td>Yes</td>\n      <td>Yes</td>\n      <td>Yes</td>\n      <td>Yes</td>\n      <td>Fiber optic</td>\n      <td>Yes</td>\n      <td>Yes</td>\n      <td>Yes</td>\n      <td>Yes</td>\n      <td>Yes</td>\n      <td>Yes</td>\n      <td>Two year</td>\n      <td>No</td>\n      <td>Credit card (automatic)</td>\n      <td>0</td>\n    </tr>\n    <tr>\n      <th>...</th>\n      <td>...</td>\n      <td>...</td>\n      <td>...</td>\n      <td>...</td>\n      <td>...</td>\n      <td>...</td>\n      <td>...</td>\n      <td>...</td>\n      <td>...</td>\n      <td>...</td>\n      <td>...</td>\n      <td>...</td>\n      <td>...</td>\n      <td>...</td>\n      <td>...</td>\n      <td>...</td>\n      <td>...</td>\n      <td>...</td>\n      <td>...</td>\n      <td>...</td>\n    </tr>\n    <tr>\n      <th>5277</th>\n      <td>3</td>\n      <td>30.40</td>\n      <td>82.15</td>\n      <td>Male</td>\n      <td>0</td>\n      <td>No</td>\n      <td>No</td>\n      <td>No</td>\n      <td>No phone service</td>\n      <td>DSL</td>\n      <td>No</td>\n      <td>No</td>\n      <td>No</td>\n      <td>Yes</td>\n      <td>No</td>\n      <td>No</td>\n      <td>Month-to-month</td>\n      <td>No</td>\n      <td>Electronic check</td>\n      <td>0</td>\n    </tr>\n    <tr>\n      <th>5278</th>\n      <td>50</td>\n      <td>44.45</td>\n      <td>2188.45</td>\n      <td>Male</td>\n      <td>0</td>\n      <td>Yes</td>\n      <td>No</td>\n      <td>No</td>\n      <td>No phone service</td>\n      <td>DSL</td>\n      <td>Yes</td>\n      <td>No</td>\n      <td>No</td>\n      <td>Yes</td>\n      <td>Yes</td>\n      <td>No</td>\n      <td>One year</td>\n      <td>Yes</td>\n      <td>Bank transfer (automatic)</td>\n      <td>0</td>\n    </tr>\n    <tr>\n      <th>5279</th>\n      <td>1</td>\n      <td>55.05</td>\n      <td>55.05</td>\n      <td>Male</td>\n      <td>0</td>\n      <td>No</td>\n      <td>No</td>\n      <td>Yes</td>\n      <td>No</td>\n      <td>DSL</td>\n      <td>No</td>\n      <td>No</td>\n      <td>Yes</td>\n      <td>Yes</td>\n      <td>No</td>\n      <td>No</td>\n      <td>Month-to-month</td>\n      <td>No</td>\n      <td>Mailed check</td>\n      <td>0</td>\n    </tr>\n    <tr>\n      <th>5280</th>\n      <td>29</td>\n      <td>76.00</td>\n      <td>2215.25</td>\n      <td>Female</td>\n      <td>0</td>\n      <td>No</td>\n      <td>No</td>\n      <td>Yes</td>\n      <td>Yes</td>\n      <td>Fiber optic</td>\n      <td>No</td>\n      <td>No</td>\n      <td>No</td>\n      <td>No</td>\n      <td>No</td>\n      <td>No</td>\n      <td>Month-to-month</td>\n      <td>Yes</td>\n      <td>Credit card (automatic)</td>\n      <td>0</td>\n    </tr>\n    <tr>\n      <th>5281</th>\n      <td>19</td>\n      <td>75.90</td>\n      <td>1375.6</td>\n      <td>Female</td>\n      <td>0</td>\n      <td>No</td>\n      <td>Yes</td>\n      <td>Yes</td>\n      <td>Yes</td>\n      <td>DSL</td>\n      <td>Yes</td>\n      <td>Yes</td>\n      <td>No</td>\n      <td>Yes</td>\n      <td>Yes</td>\n      <td>No</td>\n      <td>Month-to-month</td>\n      <td>Yes</td>\n      <td>Mailed check</td>\n      <td>0</td>\n    </tr>\n  </tbody>\n</table>\n<p>5282 rows × 20 columns</p>\n</div>"
     },
     "execution_count": 93,
     "metadata": {},
     "output_type": "execute_result"
    }
   ],
   "source": [
    "data"
   ],
   "metadata": {
    "collapsed": false
   }
  },
  {
   "cell_type": "code",
   "execution_count": 94,
   "outputs": [
    {
     "name": "stdout",
     "output_type": "stream",
     "text": [
      "<class 'pandas.core.frame.DataFrame'>\n",
      "RangeIndex: 5282 entries, 0 to 5281\n",
      "Data columns (total 20 columns):\n",
      " #   Column                    Non-Null Count  Dtype  \n",
      "---  ------                    --------------  -----  \n",
      " 0   ClientPeriod              5282 non-null   int64  \n",
      " 1   MonthlySpending           5282 non-null   float64\n",
      " 2   TotalSpent                5282 non-null   object \n",
      " 3   Sex                       5282 non-null   object \n",
      " 4   IsSeniorCitizen           5282 non-null   int64  \n",
      " 5   HasPartner                5282 non-null   object \n",
      " 6   HasChild                  5282 non-null   object \n",
      " 7   HasPhoneService           5282 non-null   object \n",
      " 8   HasMultiplePhoneNumbers   5282 non-null   object \n",
      " 9   HasInternetService        5282 non-null   object \n",
      " 10  HasOnlineSecurityService  5282 non-null   object \n",
      " 11  HasOnlineBackup           5282 non-null   object \n",
      " 12  HasDeviceProtection       5282 non-null   object \n",
      " 13  HasTechSupportAccess      5282 non-null   object \n",
      " 14  HasOnlineTV               5282 non-null   object \n",
      " 15  HasMovieSubscription      5282 non-null   object \n",
      " 16  HasContractPhone          5282 non-null   object \n",
      " 17  IsBillingPaperless        5282 non-null   object \n",
      " 18  PaymentMethod             5282 non-null   object \n",
      " 19  Churn                     5282 non-null   int64  \n",
      "dtypes: float64(1), int64(3), object(16)\n",
      "memory usage: 825.4+ KB\n"
     ]
    }
   ],
   "source": [
    "data.info()"
   ],
   "metadata": {
    "collapsed": false
   }
  },
  {
   "cell_type": "code",
   "metadata": {
    "id": "tHC6gWabEEZA"
   },
   "source": [
    "def prepare_data(df):\n",
    "    df = df.replace(\"No phone\", np.nan)\n",
    "    df = df.replace(\"No phone service\", np.nan)\n",
    "    df = df.replace(\"No internet service\", np.nan)\n",
    "    df = df.replace(\" \", np.nan)\n",
    "\n",
    "    return df\n",
    "\n",
    "data = prepare_data(data)"
   ],
   "execution_count": 95,
   "outputs": []
  },
  {
   "cell_type": "code",
   "execution_count": 96,
   "outputs": [
    {
     "data": {
      "text/plain": "(5282, 20)"
     },
     "execution_count": 96,
     "metadata": {},
     "output_type": "execute_result"
    }
   ],
   "source": [
    "data.shape"
   ],
   "metadata": {
    "collapsed": false
   }
  },
  {
   "cell_type": "code",
   "execution_count": 97,
   "outputs": [
    {
     "data": {
      "text/plain": "ClientPeriod                   0\nMonthlySpending                0\nTotalSpent                     9\nSex                            0\nIsSeniorCitizen                0\nHasPartner                     0\nHasChild                       0\nHasPhoneService                0\nHasMultiplePhoneNumbers      521\nHasInternetService             0\nHasOnlineSecurityService    1141\nHasOnlineBackup             1141\nHasDeviceProtection         1141\nHasTechSupportAccess        1141\nHasOnlineTV                 1141\nHasMovieSubscription        1141\nHasContractPhone               0\nIsBillingPaperless             0\nPaymentMethod                  0\nChurn                          0\ndtype: int64"
     },
     "execution_count": 97,
     "metadata": {},
     "output_type": "execute_result"
    }
   ],
   "source": [
    "data.isnull().sum()"
   ],
   "metadata": {
    "collapsed": false
   }
  },
  {
   "cell_type": "code",
   "execution_count": 98,
   "outputs": [
    {
     "data": {
      "text/plain": "7376"
     },
     "execution_count": 98,
     "metadata": {},
     "output_type": "execute_result"
    }
   ],
   "source": [
    "data.isna().sum().sum()"
   ],
   "metadata": {
    "collapsed": false
   }
  },
  {
   "cell_type": "code",
   "execution_count": 99,
   "outputs": [
    {
     "data": {
      "text/plain": "ClientPeriod                0.000000\nMonthlySpending             0.000000\nTotalSpent                  0.001704\nSex                         0.000000\nIsSeniorCitizen             0.000000\nHasPartner                  0.000000\nHasChild                    0.000000\nHasPhoneService             0.000000\nHasMultiplePhoneNumbers     0.098637\nHasInternetService          0.000000\nHasOnlineSecurityService    0.216017\nHasOnlineBackup             0.216017\nHasDeviceProtection         0.216017\nHasTechSupportAccess        0.216017\nHasOnlineTV                 0.216017\nHasMovieSubscription        0.216017\nHasContractPhone            0.000000\nIsBillingPaperless          0.000000\nPaymentMethod               0.000000\nChurn                       0.000000\ndtype: float64"
     },
     "execution_count": 99,
     "metadata": {},
     "output_type": "execute_result"
    }
   ],
   "source": [
    "data.isna().mean()"
   ],
   "metadata": {
    "collapsed": false
   }
  },
  {
   "cell_type": "code",
   "execution_count": 100,
   "outputs": [
    {
     "data": {
      "text/plain": "      ClientPeriod  MonthlySpending TotalSpent     Sex  IsSeniorCitizen  \\\n2                1            75.90       75.9    Male                0   \n3               32            79.30       2570  Female                1   \n4               60           115.25    6758.45  Female                0   \n6               27            90.15     2423.4  Female                0   \n7                1            45.70       45.7    Male                0   \n...            ...              ...        ...     ...              ...   \n5274             2            69.75     144.55  Female                0   \n5276            72            98.20     7015.9  Female                0   \n5279             1            55.05      55.05    Male                0   \n5280            29            76.00    2215.25  Female                0   \n5281            19            75.90     1375.6  Female                0   \n\n     HasPartner HasChild HasPhoneService HasMultiplePhoneNumbers  \\\n2            No       No             Yes                      No   \n3           Yes       No             Yes                     Yes   \n4           Yes      Yes             Yes                     Yes   \n6           Yes       No             Yes                     Yes   \n7            No       No             Yes                      No   \n...         ...      ...             ...                     ...   \n5274         No       No             Yes                      No   \n5276        Yes       No             Yes                     Yes   \n5279         No       No             Yes                      No   \n5280         No       No             Yes                     Yes   \n5281         No      Yes             Yes                     Yes   \n\n     HasInternetService HasOnlineSecurityService HasOnlineBackup  \\\n2           Fiber optic                       No              No   \n3           Fiber optic                       No              No   \n4           Fiber optic                      Yes             Yes   \n6           Fiber optic                       No              No   \n7                   DSL                       No              No   \n...                 ...                      ...             ...   \n5274        Fiber optic                       No              No   \n5276        Fiber optic                      Yes              No   \n5279                DSL                       No              No   \n5280        Fiber optic                       No              No   \n5281                DSL                      Yes             Yes   \n\n     HasDeviceProtection HasTechSupportAccess HasOnlineTV  \\\n2                     No                  Yes          No   \n3                    Yes                   No          No   \n4                    Yes                  Yes         Yes   \n6                    Yes                   No          No   \n7                     No                   No          No   \n...                  ...                  ...         ...   \n5274                  No                   No          No   \n5276                 Yes                  Yes         Yes   \n5279                 Yes                  Yes          No   \n5280                  No                   No          No   \n5281                  No                  Yes         Yes   \n\n     HasMovieSubscription HasContractPhone IsBillingPaperless  \\\n2                      No   Month-to-month                Yes   \n3                      No   Month-to-month                 No   \n4                     Yes         Two year                 No   \n6                     Yes   Month-to-month                 No   \n7                      No   Month-to-month                Yes   \n...                   ...              ...                ...   \n5274                   No   Month-to-month                 No   \n5276                   No         Two year                Yes   \n5279                   No   Month-to-month                 No   \n5280                   No   Month-to-month                Yes   \n5281                   No   Month-to-month                Yes   \n\n                  PaymentMethod  Churn  \n2              Electronic check      1  \n3                  Mailed check      0  \n4       Credit card (automatic)      0  \n6     Bank transfer (automatic)      0  \n7                  Mailed check      1  \n...                         ...    ...  \n5274  Bank transfer (automatic)      1  \n5276  Bank transfer (automatic)      0  \n5279               Mailed check      0  \n5280    Credit card (automatic)      0  \n5281               Mailed check      0  \n\n[3617 rows x 20 columns]",
      "text/html": "<div>\n<style scoped>\n    .dataframe tbody tr th:only-of-type {\n        vertical-align: middle;\n    }\n\n    .dataframe tbody tr th {\n        vertical-align: top;\n    }\n\n    .dataframe thead th {\n        text-align: right;\n    }\n</style>\n<table border=\"1\" class=\"dataframe\">\n  <thead>\n    <tr style=\"text-align: right;\">\n      <th></th>\n      <th>ClientPeriod</th>\n      <th>MonthlySpending</th>\n      <th>TotalSpent</th>\n      <th>Sex</th>\n      <th>IsSeniorCitizen</th>\n      <th>HasPartner</th>\n      <th>HasChild</th>\n      <th>HasPhoneService</th>\n      <th>HasMultiplePhoneNumbers</th>\n      <th>HasInternetService</th>\n      <th>HasOnlineSecurityService</th>\n      <th>HasOnlineBackup</th>\n      <th>HasDeviceProtection</th>\n      <th>HasTechSupportAccess</th>\n      <th>HasOnlineTV</th>\n      <th>HasMovieSubscription</th>\n      <th>HasContractPhone</th>\n      <th>IsBillingPaperless</th>\n      <th>PaymentMethod</th>\n      <th>Churn</th>\n    </tr>\n  </thead>\n  <tbody>\n    <tr>\n      <th>2</th>\n      <td>1</td>\n      <td>75.90</td>\n      <td>75.9</td>\n      <td>Male</td>\n      <td>0</td>\n      <td>No</td>\n      <td>No</td>\n      <td>Yes</td>\n      <td>No</td>\n      <td>Fiber optic</td>\n      <td>No</td>\n      <td>No</td>\n      <td>No</td>\n      <td>Yes</td>\n      <td>No</td>\n      <td>No</td>\n      <td>Month-to-month</td>\n      <td>Yes</td>\n      <td>Electronic check</td>\n      <td>1</td>\n    </tr>\n    <tr>\n      <th>3</th>\n      <td>32</td>\n      <td>79.30</td>\n      <td>2570</td>\n      <td>Female</td>\n      <td>1</td>\n      <td>Yes</td>\n      <td>No</td>\n      <td>Yes</td>\n      <td>Yes</td>\n      <td>Fiber optic</td>\n      <td>No</td>\n      <td>No</td>\n      <td>Yes</td>\n      <td>No</td>\n      <td>No</td>\n      <td>No</td>\n      <td>Month-to-month</td>\n      <td>No</td>\n      <td>Mailed check</td>\n      <td>0</td>\n    </tr>\n    <tr>\n      <th>4</th>\n      <td>60</td>\n      <td>115.25</td>\n      <td>6758.45</td>\n      <td>Female</td>\n      <td>0</td>\n      <td>Yes</td>\n      <td>Yes</td>\n      <td>Yes</td>\n      <td>Yes</td>\n      <td>Fiber optic</td>\n      <td>Yes</td>\n      <td>Yes</td>\n      <td>Yes</td>\n      <td>Yes</td>\n      <td>Yes</td>\n      <td>Yes</td>\n      <td>Two year</td>\n      <td>No</td>\n      <td>Credit card (automatic)</td>\n      <td>0</td>\n    </tr>\n    <tr>\n      <th>6</th>\n      <td>27</td>\n      <td>90.15</td>\n      <td>2423.4</td>\n      <td>Female</td>\n      <td>0</td>\n      <td>Yes</td>\n      <td>No</td>\n      <td>Yes</td>\n      <td>Yes</td>\n      <td>Fiber optic</td>\n      <td>No</td>\n      <td>No</td>\n      <td>Yes</td>\n      <td>No</td>\n      <td>No</td>\n      <td>Yes</td>\n      <td>Month-to-month</td>\n      <td>No</td>\n      <td>Bank transfer (automatic)</td>\n      <td>0</td>\n    </tr>\n    <tr>\n      <th>7</th>\n      <td>1</td>\n      <td>45.70</td>\n      <td>45.7</td>\n      <td>Male</td>\n      <td>0</td>\n      <td>No</td>\n      <td>No</td>\n      <td>Yes</td>\n      <td>No</td>\n      <td>DSL</td>\n      <td>No</td>\n      <td>No</td>\n      <td>No</td>\n      <td>No</td>\n      <td>No</td>\n      <td>No</td>\n      <td>Month-to-month</td>\n      <td>Yes</td>\n      <td>Mailed check</td>\n      <td>1</td>\n    </tr>\n    <tr>\n      <th>...</th>\n      <td>...</td>\n      <td>...</td>\n      <td>...</td>\n      <td>...</td>\n      <td>...</td>\n      <td>...</td>\n      <td>...</td>\n      <td>...</td>\n      <td>...</td>\n      <td>...</td>\n      <td>...</td>\n      <td>...</td>\n      <td>...</td>\n      <td>...</td>\n      <td>...</td>\n      <td>...</td>\n      <td>...</td>\n      <td>...</td>\n      <td>...</td>\n      <td>...</td>\n    </tr>\n    <tr>\n      <th>5274</th>\n      <td>2</td>\n      <td>69.75</td>\n      <td>144.55</td>\n      <td>Female</td>\n      <td>0</td>\n      <td>No</td>\n      <td>No</td>\n      <td>Yes</td>\n      <td>No</td>\n      <td>Fiber optic</td>\n      <td>No</td>\n      <td>No</td>\n      <td>No</td>\n      <td>No</td>\n      <td>No</td>\n      <td>No</td>\n      <td>Month-to-month</td>\n      <td>No</td>\n      <td>Bank transfer (automatic)</td>\n      <td>1</td>\n    </tr>\n    <tr>\n      <th>5276</th>\n      <td>72</td>\n      <td>98.20</td>\n      <td>7015.9</td>\n      <td>Female</td>\n      <td>0</td>\n      <td>Yes</td>\n      <td>No</td>\n      <td>Yes</td>\n      <td>Yes</td>\n      <td>Fiber optic</td>\n      <td>Yes</td>\n      <td>No</td>\n      <td>Yes</td>\n      <td>Yes</td>\n      <td>Yes</td>\n      <td>No</td>\n      <td>Two year</td>\n      <td>Yes</td>\n      <td>Bank transfer (automatic)</td>\n      <td>0</td>\n    </tr>\n    <tr>\n      <th>5279</th>\n      <td>1</td>\n      <td>55.05</td>\n      <td>55.05</td>\n      <td>Male</td>\n      <td>0</td>\n      <td>No</td>\n      <td>No</td>\n      <td>Yes</td>\n      <td>No</td>\n      <td>DSL</td>\n      <td>No</td>\n      <td>No</td>\n      <td>Yes</td>\n      <td>Yes</td>\n      <td>No</td>\n      <td>No</td>\n      <td>Month-to-month</td>\n      <td>No</td>\n      <td>Mailed check</td>\n      <td>0</td>\n    </tr>\n    <tr>\n      <th>5280</th>\n      <td>29</td>\n      <td>76.00</td>\n      <td>2215.25</td>\n      <td>Female</td>\n      <td>0</td>\n      <td>No</td>\n      <td>No</td>\n      <td>Yes</td>\n      <td>Yes</td>\n      <td>Fiber optic</td>\n      <td>No</td>\n      <td>No</td>\n      <td>No</td>\n      <td>No</td>\n      <td>No</td>\n      <td>No</td>\n      <td>Month-to-month</td>\n      <td>Yes</td>\n      <td>Credit card (automatic)</td>\n      <td>0</td>\n    </tr>\n    <tr>\n      <th>5281</th>\n      <td>19</td>\n      <td>75.90</td>\n      <td>1375.6</td>\n      <td>Female</td>\n      <td>0</td>\n      <td>No</td>\n      <td>Yes</td>\n      <td>Yes</td>\n      <td>Yes</td>\n      <td>DSL</td>\n      <td>Yes</td>\n      <td>Yes</td>\n      <td>No</td>\n      <td>Yes</td>\n      <td>Yes</td>\n      <td>No</td>\n      <td>Month-to-month</td>\n      <td>Yes</td>\n      <td>Mailed check</td>\n      <td>0</td>\n    </tr>\n  </tbody>\n</table>\n<p>3617 rows × 20 columns</p>\n</div>"
     },
     "execution_count": 100,
     "metadata": {},
     "output_type": "execute_result"
    }
   ],
   "source": [
    "data = data.dropna()\n",
    "data"
   ],
   "metadata": {
    "collapsed": false
   }
  },
  {
   "cell_type": "code",
   "execution_count": 102,
   "outputs": [
    {
     "name": "stdout",
     "output_type": "stream",
     "text": [
      "<class 'pandas.core.frame.DataFrame'>\n",
      "Int64Index: 3617 entries, 2 to 5281\n",
      "Data columns (total 20 columns):\n",
      " #   Column                    Non-Null Count  Dtype  \n",
      "---  ------                    --------------  -----  \n",
      " 0   ClientPeriod              3617 non-null   int64  \n",
      " 1   MonthlySpending           3617 non-null   float64\n",
      " 2   TotalSpent                3617 non-null   float64\n",
      " 3   Sex                       3617 non-null   object \n",
      " 4   IsSeniorCitizen           3617 non-null   int64  \n",
      " 5   HasPartner                3617 non-null   object \n",
      " 6   HasChild                  3617 non-null   object \n",
      " 7   HasPhoneService           3617 non-null   object \n",
      " 8   HasMultiplePhoneNumbers   3617 non-null   object \n",
      " 9   HasInternetService        3617 non-null   object \n",
      " 10  HasOnlineSecurityService  3617 non-null   object \n",
      " 11  HasOnlineBackup           3617 non-null   object \n",
      " 12  HasDeviceProtection       3617 non-null   object \n",
      " 13  HasTechSupportAccess      3617 non-null   object \n",
      " 14  HasOnlineTV               3617 non-null   object \n",
      " 15  HasMovieSubscription      3617 non-null   object \n",
      " 16  HasContractPhone          3617 non-null   object \n",
      " 17  IsBillingPaperless        3617 non-null   object \n",
      " 18  PaymentMethod             3617 non-null   object \n",
      " 19  Churn                     3617 non-null   int64  \n",
      "dtypes: float64(2), int64(3), object(15)\n",
      "memory usage: 593.4+ KB\n"
     ]
    }
   ],
   "source": [
    "data['TotalSpent'] = pd.to_numeric(data['TotalSpent'])\n",
    "data.info()"
   ],
   "metadata": {
    "collapsed": false
   }
  },
  {
   "cell_type": "markdown",
   "metadata": {
    "id": "dK370bPCEEZD"
   },
   "source": [
    "## Анализ данных (3 балла)\n",
    "\n",
    "1) Для численных призанков постройте гистограмму (*plt.hist(...)*) или boxplot (*plt.boxplot(...)*). Для категориальных посчитайте количество каждого значения для каждого признака. Для каждой колонки надо сделать *data.value_counts()* и построить bar диаграммы *plt.bar(...)* или круговые диаграммы *plt.pie(...)* (хорошо, елси вы сможете это сделать на одном гарфике с помощью *plt.subplots(...)*). \n",
    "\n",
    "2) Посмотрите на распределение целевой переменной и скажите, являются ли классы несбалансированными.\n",
    "\n",
    "3) (Если будет желание) Поиграйте с разными библиотеками для визуализации - *sns*, *pandas_visual_analysis*, etc.\n",
    "\n",
    "Второй пункт очень важен, потому что существуют задачи классификации с несбалансированными классами. Например, это может значить, что в датасете намного больше примеров 0 класса. В таких случаях нужно 1) не использовать accuracy как метрику 2) использовать методы борьбы с imbalanced dataset (обычно если датасет сильно несбалансирован, т.е. класса 1 в 20 раз меньше класса 0)."
   ]
  },
  {
   "cell_type": "code",
   "metadata": {
    "id": "NZkbgFJZEEZE"
   },
   "source": [
    "data.hist(column=num_cols, figsize=(15, 8))\n",
    "plt.show()\n",
    "None"
   ],
   "execution_count": 105,
   "outputs": [
    {
     "data": {
      "text/plain": "<Figure size 1500x800 with 4 Axes>",
      "image/png": "[encoded data removed]"
     },
     "metadata": {},
     "output_type": "display_data"
    }
   ]
  },
  {
   "cell_type": "code",
   "execution_count": 148,
   "outputs": [
    {
     "name": "stderr",
     "output_type": "stream",
     "text": [
      "c:\\users\\zanoo\\appdata\\local\\programs\\python\\python37\\lib\\site-packages\\ipykernel_launcher.py:1: FutureWarning: this method is deprecated in favour of `Styler.format(precision=..)`\n",
      "  \"\"\"Entry point for launching an IPython kernel.\n"
     ]
    },
    {
     "data": {
      "text/plain": "<pandas.io.formats.style.Styler at 0x17136d78f48>",
      "text/html": "<style type=\"text/css\">\n#T_aaee4_row0_col0, #T_aaee4_row1_col1, #T_aaee4_row2_col2 {\n  background-color: #00441b;\n  color: #f1f1f1;\n}\n#T_aaee4_row0_col1, #T_aaee4_row1_col0, #T_aaee4_row1_col2 {\n  background-color: #f7fcf5;\n  color: #000000;\n}\n#T_aaee4_row0_col2 {\n  background-color: #00682a;\n  color: #f1f1f1;\n}\n#T_aaee4_row2_col0 {\n  background-color: #005c25;\n  color: #f1f1f1;\n}\n#T_aaee4_row2_col1 {\n  background-color: #b1e0ab;\n  color: #000000;\n}\n</style>\n<table id=\"T_aaee4_\">\n  <thead>\n    <tr>\n      <th class=\"blank level0\" >&nbsp;</th>\n      <th class=\"col_heading level0 col0\" >ClientPeriod</th>\n      <th class=\"col_heading level0 col1\" >MonthlySpending</th>\n      <th class=\"col_heading level0 col2\" >TotalSpent</th>\n    </tr>\n  </thead>\n  <tbody>\n    <tr>\n      <th id=\"T_aaee4_level0_row0\" class=\"row_heading level0 row0\" >ClientPeriod</th>\n      <td id=\"T_aaee4_row0_col0\" class=\"data row0 col0\" >1.00</td>\n      <td id=\"T_aaee4_row0_col1\" class=\"data row0 col1\" >0.44</td>\n      <td id=\"T_aaee4_row0_col2\" class=\"data row0 col2\" >0.96</td>\n    </tr>\n    <tr>\n      <th id=\"T_aaee4_level0_row1\" class=\"row_heading level0 row1\" >MonthlySpending</th>\n      <td id=\"T_aaee4_row1_col0\" class=\"data row1 col0\" >0.44</td>\n      <td id=\"T_aaee4_row1_col1\" class=\"data row1 col1\" >1.00</td>\n      <td id=\"T_aaee4_row1_col2\" class=\"data row1 col2\" >0.62</td>\n    </tr>\n    <tr>\n      <th id=\"T_aaee4_level0_row2\" class=\"row_heading level0 row2\" >TotalSpent</th>\n      <td id=\"T_aaee4_row2_col0\" class=\"data row2 col0\" >0.96</td>\n      <td id=\"T_aaee4_row2_col1\" class=\"data row2 col1\" >0.62</td>\n      <td id=\"T_aaee4_row2_col2\" class=\"data row2 col2\" >1.00</td>\n    </tr>\n  </tbody>\n</table>\n"
     },
     "execution_count": 148,
     "metadata": {},
     "output_type": "execute_result"
    }
   ],
   "source": [
    "data[num_cols].corr().style.background_gradient(cmap='Greens').set_precision(2)"
   ],
   "metadata": {
    "collapsed": false
   }
  },
  {
   "cell_type": "code",
   "execution_count": 166,
   "outputs": [
    {
     "data": {
      "text/plain": "<AxesSubplot:ylabel='HasPhoneService'>"
     },
     "execution_count": 166,
     "metadata": {},
     "output_type": "execute_result"
    },
    {
     "data": {
      "text/plain": "<Figure size 640x480 with 1 Axes>",
      "image/png": "[encoded data removed]"
     },
     "metadata": {},
     "output_type": "display_data"
    }
   ],
   "source": [
    "data[cat_cols[4]].value_counts().plot.pie(autopct='%1.1f%%')"
   ],
   "metadata": {
    "collapsed": false
   }
  },
  {
   "cell_type": "markdown",
   "metadata": {
    "id": "zg60u3QDEEZH"
   },
   "source": [
    "(Дополнительно) Если вы нашли какие-то ошибки в данных или выбросы, то можете их убрать. Тут можно поэкспериментировать с обработкой данных как угодно, но не за баллы."
   ]
  },
  {
   "cell_type": "code",
   "metadata": {
    "id": "fwfksF1gEEZI"
   },
   "source": [
    "# YOUR CODE"
   ],
   "execution_count": null,
   "outputs": []
  },
  {
   "cell_type": "markdown",
   "metadata": {
    "id": "DviiJd8REEZK"
   },
   "source": [
    "## Применение линейных моделей (3 балла)\n",
    "\n",
    "1) Обработайте данные для того, чтобы к ним можно было применить LogisticRegression. Т.е. отнормируйте числовые признаки, а категориальные закодируйте с помощью one-hot-encoding'а. \n",
    "\n",
    "2) С помощью кроссвалидации или разделения на train/valid выборку протестируйте разные значения гиперпараметра C и выберите лучший (можно тестировать С=100, 10, 1, 0.1, 0.01, 0.001) по метрике ROC-AUC. \n",
    "\n",
    "Если вы разделяете на train/valid, то используйте LogisticRegressionCV. Он сам при вызове .fit() подберет параметр С. (не забудьте передать scroing='roc_auc', чтобы при кроссвалидации сравнивались значения этой метрики, и refit=True, чтобы при потом модель обучилась на всем датасете с лучшим параметром C). \n",
    "\n",
    "\n",
    "(более сложный вариант) Если вы будете использовать кроссвалидацию, то преобразования данных и LogisticRegression нужно соединить в один Pipeline с помощью make_pipeline, как это делалось во втором семинаре. Потом pipeline надо передать в GridSearchCV. Для one-hot-encoding'a можно испльзовать комбинацию LabelEncoder + OneHotEncoder (сначала превращаем строчки в числа, а потом числа првращаем в one-hot вектора.)"
   ]
  },
  {
   "cell_type": "code",
   "metadata": {
    "id": "xHCLDmwqEEZL"
   },
   "source": [
    "from sklearn.linear_model import LogisticRegression, LogisticRegressionCV\n",
    "from sklearn.model_selection import train_test_split, GridSearchCV\n",
    "from sklearn.preprocessing import StandardScaler, RobustScaler, LabelEncoder, OneHotEncoder\n",
    "from sklearn.pipeline import make_pipeline"
   ],
   "execution_count": null,
   "outputs": []
  },
  {
   "cell_type": "code",
   "metadata": {
    "id": "P2Yv3uYtEEZO"
   },
   "source": [
    "# YOUR CODE"
   ],
   "execution_count": null,
   "outputs": []
  },
  {
   "cell_type": "markdown",
   "metadata": {
    "id": "uVahy6JKEEZQ"
   },
   "source": [
    "Выпишите какое лучшее качество и с какими параметрами вам удалось получить"
   ]
  },
  {
   "cell_type": "markdown",
   "metadata": {
    "id": "36729TOQEEZR"
   },
   "source": []
  },
  {
   "cell_type": "markdown",
   "metadata": {
    "id": "BlTeVy7fEEZR"
   },
   "source": [
    "## Применение градиентного бустинга (2 балла)\n",
    "\n",
    "Если вы хотите получить баллы за точный ответ, то стоит попробовать градиентный бустинг. Часто градиентный бустинг с параметрами по умолчанию даст вам 80% результата за 0% усилий.\n",
    "\n",
    "Мы будем использовать catboost, поэтому нам не надо кодировать категориальные признаки. Catboost сделает это сам (в .fit() надо передать cat_features=cat_cols). А численные признаки нормировать для моделей, основанных на деревьях не нужно.\n",
    "\n",
    "1) Разделите выборку на train/valid. Протестируйте catboost cо стандартными параметрами.\n",
    "\n",
    "2) Протестируйте разные занчения параметроа количества деревьев и learning_rate'а и выберите лучшую по метрике ROC-AUC комбинацию. \n",
    "\n",
    "(Дополнительно) Есть некоторые сложности с тем, чтобы использовать CatBoostClassifier вместе с GridSearchCV, поэтому мы не просим использовать кроссвалидацию. Но можете попробовать)"
   ]
  },
  {
   "cell_type": "code",
   "metadata": {
    "id": "Fioxxlp-EEZS"
   },
   "source": [
    "# YOUR CODE"
   ],
   "execution_count": null,
   "outputs": []
  },
  {
   "cell_type": "markdown",
   "metadata": {
    "id": "rf4Kjt96EEZU"
   },
   "source": [
    "Выпишите, какое лучшее качество и с какими параметрами вам удалось получить"
   ]
  },
  {
   "cell_type": "markdown",
   "metadata": {
    "id": "d2d9GolXEEZV"
   },
   "source": [
    "ВАШ ОТВЕТ"
   ]
  },
  {
   "cell_type": "markdown",
   "metadata": {
    "id": "dDMXbvNZEEZV"
   },
   "source": [
    "# Предсказания"
   ]
  },
  {
   "cell_type": "code",
   "metadata": {
    "id": "G_P4wFNaEEZW",
    "outputId": "1fba5dfc-88e4-49e3-ed8a-afe21ae3325a"
   },
   "source": [
    "best_model = # какая-то предыдущая модель"
   ],
   "execution_count": null,
   "outputs": [
    {
     "output_type": "error",
     "ename": "SyntaxError",
     "evalue": "invalid syntax (<ipython-input-12-7d881febecc7>, line 1)",
     "traceback": [
      "\u001B[0;36m  File \u001B[0;32m\"<ipython-input-12-7d881febecc7>\"\u001B[0;36m, line \u001B[0;32m1\u001B[0m\n\u001B[0;31m    best_model = # какая-то предыдущая модель\u001B[0m\n\u001B[0m                                             ^\u001B[0m\n\u001B[0;31mSyntaxError\u001B[0m\u001B[0;31m:\u001B[0m invalid syntax\n"
     ]
    }
   ]
  },
  {
   "cell_type": "code",
   "metadata": {
    "id": "FfSufx0CEEZZ"
   },
   "source": [
    "X_test = pd.read_csv('./test.csv')\n",
    "submission = pd.read_csv('./submission.csv')\n",
    "\n",
    "submission['Churn'] = # best_model.predict_proba(X_test) / best_model.predict(X_test)\n",
    "submission.to_csv('./my_submission.csv')"
   ],
   "execution_count": null,
   "outputs": []
  },
  {
   "cell_type": "markdown",
   "source": [
    "Лучшее решение отправьте в Stepik."
   ],
   "metadata": {
    "id": "tzGirrp5l2I-"
   }
  },
  {
   "cell_type": "code",
   "source": [],
   "metadata": {
    "id": "eoNce9Yu0OM5"
   },
   "execution_count": null,
   "outputs": []
  }
 ]
}
